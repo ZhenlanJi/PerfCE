{
 "cells": [
  {
   "cell_type": "markdown",
   "metadata": {},
   "source": [
    "## Query data"
   ]
  },
  {
   "cell_type": "code",
   "execution_count": 1,
   "metadata": {},
   "outputs": [],
   "source": [
    "import os\n",
    "from prometheus_api_client import (\n",
    "    PrometheusConnect,\n",
    "    MetricSnapshotDataFrame,\n",
    "    MetricRangeDataFrame\n",
    ")\n",
    "import sys\n",
    "import datetime as dt\n",
    "import pandas as pd\n",
    "import pytz\n",
    "import numpy as np\n",
    "from sklearn.cluster import KMeans\n",
    "from sklearn.preprocessing import StandardScaler\n"
   ]
  },
  {
   "cell_type": "code",
   "execution_count": 2,
   "metadata": {},
   "outputs": [],
   "source": [
    "prom = PrometheusConnect(url=\"http://192.168.50.113:9090\", disable_ssl=True)\n",
    "\n",
    "query_info_df = pd.read_csv(\"query_info.csv\")\n",
    "\n",
    "# read text file\n",
    "with open(\"query.txt\") as f:\n",
    "    query_list = f.readlines()\n",
    "\n",
    "# replace substring of each line in query_list\n",
    "query_list=list(map(lambda x: x.replace('$tidb_cluster', 'tidb-cluster'), query_list))\n",
    "query_list=list(map(lambda x: x.replace('$instance', 'basic-pd-0'), query_list))"
   ]
  },
  {
   "cell_type": "code",
   "execution_count": 3,
   "metadata": {},
   "outputs": [],
   "source": [
    "# set query time\n",
    "start_time = dt.datetime(2022, 5, 4, 13, 00, 00)+dt.timedelta(hours=8)\n",
    "# start_time = end_time-dt.timedelta(hours=6)"
   ]
  },
  {
   "cell_type": "code",
   "execution_count": 4,
   "metadata": {},
   "outputs": [],
   "source": [
    "for i in range(len(query_list)):\n",
    "    query_df = pd.DataFrame()\n",
    "    for t in range(7):\n",
    "        mstart_time = start_time+dt.timedelta(hours=3)*t\n",
    "        mend_time = mstart_time+dt.timedelta(hours=3)-dt.timedelta(seconds=1)\n",
    "        metric_data = prom.custom_query_range(\n",
    "            query_list[i],\n",
    "            start_time=mstart_time,\n",
    "            end_time=mend_time,\n",
    "            step=1\n",
    "        )\n",
    "\n",
    "        metric_df = pd.DataFrame(columns=['timestamp'])\n",
    "        for m in metric_data:\n",
    "            if query_info_df.metric[i] == 'None':\n",
    "                col_name = \"None\"\n",
    "            else:\n",
    "                if m['metric'] == {} and len(metric_data) > 1:\n",
    "                    continue\n",
    "                sub_metrics = query_info_df.metric[i].split(\"+\")\n",
    "                col_name = \"_\".join(\n",
    "                    list(map(lambda x: m['metric'][x], sub_metrics)))\n",
    "                col_name = col_name.replace('-', '_')\n",
    "            temp_df = pd.DataFrame(m['values'], columns=[\n",
    "                                   'timestamp', col_name])\n",
    "            metric_df = pd.merge(metric_df, temp_df,\n",
    "                                 on='timestamp', how='outer')\n",
    "\n",
    "        query_df = pd.concat([query_df, metric_df])\n",
    "\n",
    "    save_path = os.path.join(os.pardir, \"data\", \"train\", '_'.join(\n",
    "        (query_info_df.name[i]).split())+'.csv')\n",
    "    query_df.to_csv(save_path, index=False)\n"
   ]
  },
  {
   "cell_type": "markdown",
   "metadata": {},
   "source": [
    "## Combine data"
   ]
  },
  {
   "cell_type": "code",
   "execution_count": 5,
   "metadata": {},
   "outputs": [],
   "source": [
    "combined_df = pd.DataFrame(columns=['timestamp'])\n",
    "# walk through directory\n",
    "for root, dirs, files in os.walk(os.path.join(os.pardir, \"data\", \"train\")):\n",
    "    for file in files:\n",
    "        if file.endswith(\".csv\"):\n",
    "            temp_df = pd.read_csv(os.path.join(root, file))\n",
    "            if temp_df.empty:\n",
    "                continue\n",
    "            file_name = file.split('.')[0]\n",
    "            # rename temp_df columns\n",
    "            temp_df.columns = ['timestamp'] + list(\n",
    "                map(lambda x: file_name+'__'+x, temp_df.columns[1:]))\n",
    "            combined_df = pd.merge(combined_df, temp_df,\n",
    "                                   on='timestamp', how='outer')\n",
    "combined_df.set_index('timestamp')\n",
    "# drop columns all nan\n",
    "combined_df.dropna(axis=1, how='all', inplace=True)\n",
    "combined_df.interpolate(inplace=True, limit=60, method='linear')\n",
    "## fill nan by 0\n",
    "combined_df.fillna(0, inplace=True)\n",
    "combined_df = combined_df.loc[:, (combined_df != 0).any(axis=0)]\n",
    "\n",
    "combined_df.to_csv(os.path.join(\n",
    "    os.pardir, \"output\", 'train.csv'), index=False)\n"
   ]
  },
  {
   "cell_type": "code",
   "execution_count": 6,
   "metadata": {},
   "outputs": [
    {
     "name": "stderr",
     "output_type": "stream",
     "text": [
      "C:\\Users\\jzlch\\AppData\\Local\\Temp/ipykernel_27896/3053227428.py:16: ConvergenceWarning: Number of distinct clusters (3) found smaller than n_clusters (15). Possibly due to duplicate points in X.\n",
      "  kmeans.fit(temp_df[col].to_numpy().reshape(-1, 1))\n",
      "C:\\Users\\jzlch\\AppData\\Local\\Temp/ipykernel_27896/3053227428.py:16: ConvergenceWarning: Number of distinct clusters (4) found smaller than n_clusters (15). Possibly due to duplicate points in X.\n",
      "  kmeans.fit(temp_df[col].to_numpy().reshape(-1, 1))\n",
      "C:\\Users\\jzlch\\AppData\\Local\\Temp/ipykernel_27896/3053227428.py:16: ConvergenceWarning: Number of distinct clusters (2) found smaller than n_clusters (15). Possibly due to duplicate points in X.\n",
      "  kmeans.fit(temp_df[col].to_numpy().reshape(-1, 1))\n",
      "C:\\Users\\jzlch\\AppData\\Local\\Temp/ipykernel_27896/3053227428.py:16: ConvergenceWarning: Number of distinct clusters (2) found smaller than n_clusters (15). Possibly due to duplicate points in X.\n",
      "  kmeans.fit(temp_df[col].to_numpy().reshape(-1, 1))\n",
      "C:\\Users\\jzlch\\AppData\\Local\\Temp/ipykernel_27896/3053227428.py:16: ConvergenceWarning: Number of distinct clusters (2) found smaller than n_clusters (15). Possibly due to duplicate points in X.\n",
      "  kmeans.fit(temp_df[col].to_numpy().reshape(-1, 1))\n",
      "C:\\Users\\jzlch\\AppData\\Local\\Temp/ipykernel_27896/3053227428.py:16: ConvergenceWarning: Number of distinct clusters (2) found smaller than n_clusters (15). Possibly due to duplicate points in X.\n",
      "  kmeans.fit(temp_df[col].to_numpy().reshape(-1, 1))\n",
      "C:\\Users\\jzlch\\AppData\\Local\\Temp/ipykernel_27896/3053227428.py:16: ConvergenceWarning: Number of distinct clusters (2) found smaller than n_clusters (15). Possibly due to duplicate points in X.\n",
      "  kmeans.fit(temp_df[col].to_numpy().reshape(-1, 1))\n",
      "C:\\Users\\jzlch\\AppData\\Local\\Temp/ipykernel_27896/3053227428.py:16: ConvergenceWarning: Number of distinct clusters (2) found smaller than n_clusters (15). Possibly due to duplicate points in X.\n",
      "  kmeans.fit(temp_df[col].to_numpy().reshape(-1, 1))\n",
      "C:\\Users\\jzlch\\AppData\\Local\\Temp/ipykernel_27896/3053227428.py:16: ConvergenceWarning: Number of distinct clusters (3) found smaller than n_clusters (15). Possibly due to duplicate points in X.\n",
      "  kmeans.fit(temp_df[col].to_numpy().reshape(-1, 1))\n",
      "C:\\Users\\jzlch\\AppData\\Local\\Temp/ipykernel_27896/3053227428.py:16: ConvergenceWarning: Number of distinct clusters (3) found smaller than n_clusters (15). Possibly due to duplicate points in X.\n",
      "  kmeans.fit(temp_df[col].to_numpy().reshape(-1, 1))\n",
      "C:\\Users\\jzlch\\AppData\\Local\\Temp/ipykernel_27896/3053227428.py:16: ConvergenceWarning: Number of distinct clusters (2) found smaller than n_clusters (15). Possibly due to duplicate points in X.\n",
      "  kmeans.fit(temp_df[col].to_numpy().reshape(-1, 1))\n",
      "C:\\Users\\jzlch\\AppData\\Local\\Temp/ipykernel_27896/3053227428.py:16: ConvergenceWarning: Number of distinct clusters (12) found smaller than n_clusters (15). Possibly due to duplicate points in X.\n",
      "  kmeans.fit(temp_df[col].to_numpy().reshape(-1, 1))\n",
      "C:\\Users\\jzlch\\AppData\\Local\\Temp/ipykernel_27896/3053227428.py:16: ConvergenceWarning: Number of distinct clusters (3) found smaller than n_clusters (15). Possibly due to duplicate points in X.\n",
      "  kmeans.fit(temp_df[col].to_numpy().reshape(-1, 1))\n",
      "C:\\Users\\jzlch\\AppData\\Local\\Temp/ipykernel_27896/3053227428.py:16: ConvergenceWarning: Number of distinct clusters (4) found smaller than n_clusters (15). Possibly due to duplicate points in X.\n",
      "  kmeans.fit(temp_df[col].to_numpy().reshape(-1, 1))\n",
      "C:\\Users\\jzlch\\AppData\\Local\\Temp/ipykernel_27896/3053227428.py:16: ConvergenceWarning: Number of distinct clusters (2) found smaller than n_clusters (15). Possibly due to duplicate points in X.\n",
      "  kmeans.fit(temp_df[col].to_numpy().reshape(-1, 1))\n",
      "C:\\Users\\jzlch\\AppData\\Local\\Temp/ipykernel_27896/3053227428.py:16: ConvergenceWarning: Number of distinct clusters (9) found smaller than n_clusters (15). Possibly due to duplicate points in X.\n",
      "  kmeans.fit(temp_df[col].to_numpy().reshape(-1, 1))\n",
      "C:\\Users\\jzlch\\AppData\\Local\\Temp/ipykernel_27896/3053227428.py:17: PerformanceWarning: DataFrame is highly fragmented.  This is usually the result of calling `frame.insert` many times, which has poor performance.  Consider joining all columns at once using pd.concat(axis=1) instead.  To get a de-fragmented frame, use `newframe = frame.copy()`\n",
      "  blip_df[col]=kmeans.labels_\n",
      "C:\\Users\\jzlch\\AppData\\Local\\Temp/ipykernel_27896/3053227428.py:17: PerformanceWarning: DataFrame is highly fragmented.  This is usually the result of calling `frame.insert` many times, which has poor performance.  Consider joining all columns at once using pd.concat(axis=1) instead.  To get a de-fragmented frame, use `newframe = frame.copy()`\n",
      "  blip_df[col]=kmeans.labels_\n",
      "C:\\Users\\jzlch\\AppData\\Local\\Temp/ipykernel_27896/3053227428.py:16: ConvergenceWarning: Number of distinct clusters (8) found smaller than n_clusters (15). Possibly due to duplicate points in X.\n",
      "  kmeans.fit(temp_df[col].to_numpy().reshape(-1, 1))\n",
      "C:\\Users\\jzlch\\AppData\\Local\\Temp/ipykernel_27896/3053227428.py:17: PerformanceWarning: DataFrame is highly fragmented.  This is usually the result of calling `frame.insert` many times, which has poor performance.  Consider joining all columns at once using pd.concat(axis=1) instead.  To get a de-fragmented frame, use `newframe = frame.copy()`\n",
      "  blip_df[col]=kmeans.labels_\n",
      "C:\\Users\\jzlch\\AppData\\Local\\Temp/ipykernel_27896/3053227428.py:17: PerformanceWarning: DataFrame is highly fragmented.  This is usually the result of calling `frame.insert` many times, which has poor performance.  Consider joining all columns at once using pd.concat(axis=1) instead.  To get a de-fragmented frame, use `newframe = frame.copy()`\n",
      "  blip_df[col]=kmeans.labels_\n",
      "C:\\Users\\jzlch\\AppData\\Local\\Temp/ipykernel_27896/3053227428.py:16: ConvergenceWarning: Number of distinct clusters (8) found smaller than n_clusters (15). Possibly due to duplicate points in X.\n",
      "  kmeans.fit(temp_df[col].to_numpy().reshape(-1, 1))\n",
      "C:\\Users\\jzlch\\AppData\\Local\\Temp/ipykernel_27896/3053227428.py:17: PerformanceWarning: DataFrame is highly fragmented.  This is usually the result of calling `frame.insert` many times, which has poor performance.  Consider joining all columns at once using pd.concat(axis=1) instead.  To get a de-fragmented frame, use `newframe = frame.copy()`\n",
      "  blip_df[col]=kmeans.labels_\n",
      "C:\\Users\\jzlch\\AppData\\Local\\Temp/ipykernel_27896/3053227428.py:17: PerformanceWarning: DataFrame is highly fragmented.  This is usually the result of calling `frame.insert` many times, which has poor performance.  Consider joining all columns at once using pd.concat(axis=1) instead.  To get a de-fragmented frame, use `newframe = frame.copy()`\n",
      "  blip_df[col]=kmeans.labels_\n",
      "C:\\Users\\jzlch\\AppData\\Local\\Temp/ipykernel_27896/3053227428.py:17: PerformanceWarning: DataFrame is highly fragmented.  This is usually the result of calling `frame.insert` many times, which has poor performance.  Consider joining all columns at once using pd.concat(axis=1) instead.  To get a de-fragmented frame, use `newframe = frame.copy()`\n",
      "  blip_df[col]=kmeans.labels_\n",
      "C:\\Users\\jzlch\\AppData\\Local\\Temp/ipykernel_27896/3053227428.py:17: PerformanceWarning: DataFrame is highly fragmented.  This is usually the result of calling `frame.insert` many times, which has poor performance.  Consider joining all columns at once using pd.concat(axis=1) instead.  To get a de-fragmented frame, use `newframe = frame.copy()`\n",
      "  blip_df[col]=kmeans.labels_\n",
      "C:\\Users\\jzlch\\AppData\\Local\\Temp/ipykernel_27896/3053227428.py:17: PerformanceWarning: DataFrame is highly fragmented.  This is usually the result of calling `frame.insert` many times, which has poor performance.  Consider joining all columns at once using pd.concat(axis=1) instead.  To get a de-fragmented frame, use `newframe = frame.copy()`\n",
      "  blip_df[col]=kmeans.labels_\n",
      "C:\\Users\\jzlch\\AppData\\Local\\Temp/ipykernel_27896/3053227428.py:17: PerformanceWarning: DataFrame is highly fragmented.  This is usually the result of calling `frame.insert` many times, which has poor performance.  Consider joining all columns at once using pd.concat(axis=1) instead.  To get a de-fragmented frame, use `newframe = frame.copy()`\n",
      "  blip_df[col]=kmeans.labels_\n",
      "C:\\Users\\jzlch\\AppData\\Local\\Temp/ipykernel_27896/3053227428.py:17: PerformanceWarning: DataFrame is highly fragmented.  This is usually the result of calling `frame.insert` many times, which has poor performance.  Consider joining all columns at once using pd.concat(axis=1) instead.  To get a de-fragmented frame, use `newframe = frame.copy()`\n",
      "  blip_df[col]=kmeans.labels_\n",
      "C:\\Users\\jzlch\\AppData\\Local\\Temp/ipykernel_27896/3053227428.py:17: PerformanceWarning: DataFrame is highly fragmented.  This is usually the result of calling `frame.insert` many times, which has poor performance.  Consider joining all columns at once using pd.concat(axis=1) instead.  To get a de-fragmented frame, use `newframe = frame.copy()`\n",
      "  blip_df[col]=kmeans.labels_\n",
      "C:\\Users\\jzlch\\AppData\\Local\\Temp/ipykernel_27896/3053227428.py:17: PerformanceWarning: DataFrame is highly fragmented.  This is usually the result of calling `frame.insert` many times, which has poor performance.  Consider joining all columns at once using pd.concat(axis=1) instead.  To get a de-fragmented frame, use `newframe = frame.copy()`\n",
      "  blip_df[col]=kmeans.labels_\n",
      "C:\\Users\\jzlch\\AppData\\Local\\Temp/ipykernel_27896/3053227428.py:17: PerformanceWarning: DataFrame is highly fragmented.  This is usually the result of calling `frame.insert` many times, which has poor performance.  Consider joining all columns at once using pd.concat(axis=1) instead.  To get a de-fragmented frame, use `newframe = frame.copy()`\n",
      "  blip_df[col]=kmeans.labels_\n",
      "C:\\Users\\jzlch\\AppData\\Local\\Temp/ipykernel_27896/3053227428.py:17: PerformanceWarning: DataFrame is highly fragmented.  This is usually the result of calling `frame.insert` many times, which has poor performance.  Consider joining all columns at once using pd.concat(axis=1) instead.  To get a de-fragmented frame, use `newframe = frame.copy()`\n",
      "  blip_df[col]=kmeans.labels_\n",
      "C:\\Users\\jzlch\\AppData\\Local\\Temp/ipykernel_27896/3053227428.py:17: PerformanceWarning: DataFrame is highly fragmented.  This is usually the result of calling `frame.insert` many times, which has poor performance.  Consider joining all columns at once using pd.concat(axis=1) instead.  To get a de-fragmented frame, use `newframe = frame.copy()`\n",
      "  blip_df[col]=kmeans.labels_\n",
      "C:\\Users\\jzlch\\AppData\\Local\\Temp/ipykernel_27896/3053227428.py:17: PerformanceWarning: DataFrame is highly fragmented.  This is usually the result of calling `frame.insert` many times, which has poor performance.  Consider joining all columns at once using pd.concat(axis=1) instead.  To get a de-fragmented frame, use `newframe = frame.copy()`\n",
      "  blip_df[col]=kmeans.labels_\n",
      "C:\\Users\\jzlch\\AppData\\Local\\Temp/ipykernel_27896/3053227428.py:17: PerformanceWarning: DataFrame is highly fragmented.  This is usually the result of calling `frame.insert` many times, which has poor performance.  Consider joining all columns at once using pd.concat(axis=1) instead.  To get a de-fragmented frame, use `newframe = frame.copy()`\n",
      "  blip_df[col]=kmeans.labels_\n",
      "C:\\Users\\jzlch\\AppData\\Local\\Temp/ipykernel_27896/3053227428.py:17: PerformanceWarning: DataFrame is highly fragmented.  This is usually the result of calling `frame.insert` many times, which has poor performance.  Consider joining all columns at once using pd.concat(axis=1) instead.  To get a de-fragmented frame, use `newframe = frame.copy()`\n",
      "  blip_df[col]=kmeans.labels_\n",
      "C:\\Users\\jzlch\\AppData\\Local\\Temp/ipykernel_27896/3053227428.py:17: PerformanceWarning: DataFrame is highly fragmented.  This is usually the result of calling `frame.insert` many times, which has poor performance.  Consider joining all columns at once using pd.concat(axis=1) instead.  To get a de-fragmented frame, use `newframe = frame.copy()`\n",
      "  blip_df[col]=kmeans.labels_\n",
      "C:\\Users\\jzlch\\AppData\\Local\\Temp/ipykernel_27896/3053227428.py:17: PerformanceWarning: DataFrame is highly fragmented.  This is usually the result of calling `frame.insert` many times, which has poor performance.  Consider joining all columns at once using pd.concat(axis=1) instead.  To get a de-fragmented frame, use `newframe = frame.copy()`\n",
      "  blip_df[col]=kmeans.labels_\n",
      "C:\\Users\\jzlch\\AppData\\Local\\Temp/ipykernel_27896/3053227428.py:17: PerformanceWarning: DataFrame is highly fragmented.  This is usually the result of calling `frame.insert` many times, which has poor performance.  Consider joining all columns at once using pd.concat(axis=1) instead.  To get a de-fragmented frame, use `newframe = frame.copy()`\n",
      "  blip_df[col]=kmeans.labels_\n",
      "C:\\Users\\jzlch\\AppData\\Local\\Temp/ipykernel_27896/3053227428.py:17: PerformanceWarning: DataFrame is highly fragmented.  This is usually the result of calling `frame.insert` many times, which has poor performance.  Consider joining all columns at once using pd.concat(axis=1) instead.  To get a de-fragmented frame, use `newframe = frame.copy()`\n",
      "  blip_df[col]=kmeans.labels_\n",
      "C:\\Users\\jzlch\\AppData\\Local\\Temp/ipykernel_27896/3053227428.py:17: PerformanceWarning: DataFrame is highly fragmented.  This is usually the result of calling `frame.insert` many times, which has poor performance.  Consider joining all columns at once using pd.concat(axis=1) instead.  To get a de-fragmented frame, use `newframe = frame.copy()`\n",
      "  blip_df[col]=kmeans.labels_\n",
      "C:\\Users\\jzlch\\AppData\\Local\\Temp/ipykernel_27896/3053227428.py:17: PerformanceWarning: DataFrame is highly fragmented.  This is usually the result of calling `frame.insert` many times, which has poor performance.  Consider joining all columns at once using pd.concat(axis=1) instead.  To get a de-fragmented frame, use `newframe = frame.copy()`\n",
      "  blip_df[col]=kmeans.labels_\n",
      "C:\\Users\\jzlch\\AppData\\Local\\Temp/ipykernel_27896/3053227428.py:17: PerformanceWarning: DataFrame is highly fragmented.  This is usually the result of calling `frame.insert` many times, which has poor performance.  Consider joining all columns at once using pd.concat(axis=1) instead.  To get a de-fragmented frame, use `newframe = frame.copy()`\n",
      "  blip_df[col]=kmeans.labels_\n",
      "C:\\Users\\jzlch\\AppData\\Local\\Temp/ipykernel_27896/3053227428.py:16: ConvergenceWarning: Number of distinct clusters (13) found smaller than n_clusters (15). Possibly due to duplicate points in X.\n",
      "  kmeans.fit(temp_df[col].to_numpy().reshape(-1, 1))\n",
      "C:\\Users\\jzlch\\AppData\\Local\\Temp/ipykernel_27896/3053227428.py:17: PerformanceWarning: DataFrame is highly fragmented.  This is usually the result of calling `frame.insert` many times, which has poor performance.  Consider joining all columns at once using pd.concat(axis=1) instead.  To get a de-fragmented frame, use `newframe = frame.copy()`\n",
      "  blip_df[col]=kmeans.labels_\n",
      "C:\\Users\\jzlch\\AppData\\Local\\Temp/ipykernel_27896/3053227428.py:17: PerformanceWarning: DataFrame is highly fragmented.  This is usually the result of calling `frame.insert` many times, which has poor performance.  Consider joining all columns at once using pd.concat(axis=1) instead.  To get a de-fragmented frame, use `newframe = frame.copy()`\n",
      "  blip_df[col]=kmeans.labels_\n",
      "C:\\Users\\jzlch\\AppData\\Local\\Temp/ipykernel_27896/3053227428.py:17: PerformanceWarning: DataFrame is highly fragmented.  This is usually the result of calling `frame.insert` many times, which has poor performance.  Consider joining all columns at once using pd.concat(axis=1) instead.  To get a de-fragmented frame, use `newframe = frame.copy()`\n",
      "  blip_df[col]=kmeans.labels_\n",
      "C:\\Users\\jzlch\\AppData\\Local\\Temp/ipykernel_27896/3053227428.py:17: PerformanceWarning: DataFrame is highly fragmented.  This is usually the result of calling `frame.insert` many times, which has poor performance.  Consider joining all columns at once using pd.concat(axis=1) instead.  To get a de-fragmented frame, use `newframe = frame.copy()`\n",
      "  blip_df[col]=kmeans.labels_\n",
      "C:\\Users\\jzlch\\AppData\\Local\\Temp/ipykernel_27896/3053227428.py:17: PerformanceWarning: DataFrame is highly fragmented.  This is usually the result of calling `frame.insert` many times, which has poor performance.  Consider joining all columns at once using pd.concat(axis=1) instead.  To get a de-fragmented frame, use `newframe = frame.copy()`\n",
      "  blip_df[col]=kmeans.labels_\n",
      "C:\\Users\\jzlch\\AppData\\Local\\Temp/ipykernel_27896/3053227428.py:17: PerformanceWarning: DataFrame is highly fragmented.  This is usually the result of calling `frame.insert` many times, which has poor performance.  Consider joining all columns at once using pd.concat(axis=1) instead.  To get a de-fragmented frame, use `newframe = frame.copy()`\n",
      "  blip_df[col]=kmeans.labels_\n",
      "C:\\Users\\jzlch\\AppData\\Local\\Temp/ipykernel_27896/3053227428.py:17: PerformanceWarning: DataFrame is highly fragmented.  This is usually the result of calling `frame.insert` many times, which has poor performance.  Consider joining all columns at once using pd.concat(axis=1) instead.  To get a de-fragmented frame, use `newframe = frame.copy()`\n",
      "  blip_df[col]=kmeans.labels_\n",
      "C:\\Users\\jzlch\\AppData\\Local\\Temp/ipykernel_27896/3053227428.py:17: PerformanceWarning: DataFrame is highly fragmented.  This is usually the result of calling `frame.insert` many times, which has poor performance.  Consider joining all columns at once using pd.concat(axis=1) instead.  To get a de-fragmented frame, use `newframe = frame.copy()`\n",
      "  blip_df[col]=kmeans.labels_\n",
      "C:\\Users\\jzlch\\AppData\\Local\\Temp/ipykernel_27896/3053227428.py:17: PerformanceWarning: DataFrame is highly fragmented.  This is usually the result of calling `frame.insert` many times, which has poor performance.  Consider joining all columns at once using pd.concat(axis=1) instead.  To get a de-fragmented frame, use `newframe = frame.copy()`\n",
      "  blip_df[col]=kmeans.labels_\n",
      "C:\\Users\\jzlch\\AppData\\Local\\Temp/ipykernel_27896/3053227428.py:17: PerformanceWarning: DataFrame is highly fragmented.  This is usually the result of calling `frame.insert` many times, which has poor performance.  Consider joining all columns at once using pd.concat(axis=1) instead.  To get a de-fragmented frame, use `newframe = frame.copy()`\n",
      "  blip_df[col]=kmeans.labels_\n",
      "C:\\Users\\jzlch\\AppData\\Local\\Temp/ipykernel_27896/3053227428.py:17: PerformanceWarning: DataFrame is highly fragmented.  This is usually the result of calling `frame.insert` many times, which has poor performance.  Consider joining all columns at once using pd.concat(axis=1) instead.  To get a de-fragmented frame, use `newframe = frame.copy()`\n",
      "  blip_df[col]=kmeans.labels_\n",
      "C:\\Users\\jzlch\\AppData\\Local\\Temp/ipykernel_27896/3053227428.py:17: PerformanceWarning: DataFrame is highly fragmented.  This is usually the result of calling `frame.insert` many times, which has poor performance.  Consider joining all columns at once using pd.concat(axis=1) instead.  To get a de-fragmented frame, use `newframe = frame.copy()`\n",
      "  blip_df[col]=kmeans.labels_\n",
      "C:\\Users\\jzlch\\AppData\\Local\\Temp/ipykernel_27896/3053227428.py:17: PerformanceWarning: DataFrame is highly fragmented.  This is usually the result of calling `frame.insert` many times, which has poor performance.  Consider joining all columns at once using pd.concat(axis=1) instead.  To get a de-fragmented frame, use `newframe = frame.copy()`\n",
      "  blip_df[col]=kmeans.labels_\n",
      "C:\\Users\\jzlch\\AppData\\Local\\Temp/ipykernel_27896/3053227428.py:17: PerformanceWarning: DataFrame is highly fragmented.  This is usually the result of calling `frame.insert` many times, which has poor performance.  Consider joining all columns at once using pd.concat(axis=1) instead.  To get a de-fragmented frame, use `newframe = frame.copy()`\n",
      "  blip_df[col]=kmeans.labels_\n",
      "C:\\Users\\jzlch\\AppData\\Local\\Temp/ipykernel_27896/3053227428.py:17: PerformanceWarning: DataFrame is highly fragmented.  This is usually the result of calling `frame.insert` many times, which has poor performance.  Consider joining all columns at once using pd.concat(axis=1) instead.  To get a de-fragmented frame, use `newframe = frame.copy()`\n",
      "  blip_df[col]=kmeans.labels_\n",
      "C:\\Users\\jzlch\\AppData\\Local\\Temp/ipykernel_27896/3053227428.py:17: PerformanceWarning: DataFrame is highly fragmented.  This is usually the result of calling `frame.insert` many times, which has poor performance.  Consider joining all columns at once using pd.concat(axis=1) instead.  To get a de-fragmented frame, use `newframe = frame.copy()`\n",
      "  blip_df[col]=kmeans.labels_\n",
      "C:\\Users\\jzlch\\AppData\\Local\\Temp/ipykernel_27896/3053227428.py:17: PerformanceWarning: DataFrame is highly fragmented.  This is usually the result of calling `frame.insert` many times, which has poor performance.  Consider joining all columns at once using pd.concat(axis=1) instead.  To get a de-fragmented frame, use `newframe = frame.copy()`\n",
      "  blip_df[col]=kmeans.labels_\n",
      "C:\\Users\\jzlch\\AppData\\Local\\Temp/ipykernel_27896/3053227428.py:17: PerformanceWarning: DataFrame is highly fragmented.  This is usually the result of calling `frame.insert` many times, which has poor performance.  Consider joining all columns at once using pd.concat(axis=1) instead.  To get a de-fragmented frame, use `newframe = frame.copy()`\n",
      "  blip_df[col]=kmeans.labels_\n",
      "C:\\Users\\jzlch\\AppData\\Local\\Temp/ipykernel_27896/3053227428.py:17: PerformanceWarning: DataFrame is highly fragmented.  This is usually the result of calling `frame.insert` many times, which has poor performance.  Consider joining all columns at once using pd.concat(axis=1) instead.  To get a de-fragmented frame, use `newframe = frame.copy()`\n",
      "  blip_df[col]=kmeans.labels_\n",
      "C:\\Users\\jzlch\\AppData\\Local\\Temp/ipykernel_27896/3053227428.py:17: PerformanceWarning: DataFrame is highly fragmented.  This is usually the result of calling `frame.insert` many times, which has poor performance.  Consider joining all columns at once using pd.concat(axis=1) instead.  To get a de-fragmented frame, use `newframe = frame.copy()`\n",
      "  blip_df[col]=kmeans.labels_\n",
      "C:\\Users\\jzlch\\AppData\\Local\\Temp/ipykernel_27896/3053227428.py:17: PerformanceWarning: DataFrame is highly fragmented.  This is usually the result of calling `frame.insert` many times, which has poor performance.  Consider joining all columns at once using pd.concat(axis=1) instead.  To get a de-fragmented frame, use `newframe = frame.copy()`\n",
      "  blip_df[col]=kmeans.labels_\n",
      "C:\\Users\\jzlch\\AppData\\Local\\Temp/ipykernel_27896/3053227428.py:17: PerformanceWarning: DataFrame is highly fragmented.  This is usually the result of calling `frame.insert` many times, which has poor performance.  Consider joining all columns at once using pd.concat(axis=1) instead.  To get a de-fragmented frame, use `newframe = frame.copy()`\n",
      "  blip_df[col]=kmeans.labels_\n",
      "C:\\Users\\jzlch\\AppData\\Local\\Temp/ipykernel_27896/3053227428.py:17: PerformanceWarning: DataFrame is highly fragmented.  This is usually the result of calling `frame.insert` many times, which has poor performance.  Consider joining all columns at once using pd.concat(axis=1) instead.  To get a de-fragmented frame, use `newframe = frame.copy()`\n",
      "  blip_df[col]=kmeans.labels_\n",
      "C:\\Users\\jzlch\\AppData\\Local\\Temp/ipykernel_27896/3053227428.py:17: PerformanceWarning: DataFrame is highly fragmented.  This is usually the result of calling `frame.insert` many times, which has poor performance.  Consider joining all columns at once using pd.concat(axis=1) instead.  To get a de-fragmented frame, use `newframe = frame.copy()`\n",
      "  blip_df[col]=kmeans.labels_\n",
      "C:\\Users\\jzlch\\AppData\\Local\\Temp/ipykernel_27896/3053227428.py:17: PerformanceWarning: DataFrame is highly fragmented.  This is usually the result of calling `frame.insert` many times, which has poor performance.  Consider joining all columns at once using pd.concat(axis=1) instead.  To get a de-fragmented frame, use `newframe = frame.copy()`\n",
      "  blip_df[col]=kmeans.labels_\n",
      "C:\\Users\\jzlch\\AppData\\Local\\Temp/ipykernel_27896/3053227428.py:17: PerformanceWarning: DataFrame is highly fragmented.  This is usually the result of calling `frame.insert` many times, which has poor performance.  Consider joining all columns at once using pd.concat(axis=1) instead.  To get a de-fragmented frame, use `newframe = frame.copy()`\n",
      "  blip_df[col]=kmeans.labels_\n",
      "C:\\Users\\jzlch\\AppData\\Local\\Temp/ipykernel_27896/3053227428.py:17: PerformanceWarning: DataFrame is highly fragmented.  This is usually the result of calling `frame.insert` many times, which has poor performance.  Consider joining all columns at once using pd.concat(axis=1) instead.  To get a de-fragmented frame, use `newframe = frame.copy()`\n",
      "  blip_df[col]=kmeans.labels_\n",
      "C:\\Users\\jzlch\\AppData\\Local\\Temp/ipykernel_27896/3053227428.py:17: PerformanceWarning: DataFrame is highly fragmented.  This is usually the result of calling `frame.insert` many times, which has poor performance.  Consider joining all columns at once using pd.concat(axis=1) instead.  To get a de-fragmented frame, use `newframe = frame.copy()`\n",
      "  blip_df[col]=kmeans.labels_\n",
      "C:\\Users\\jzlch\\AppData\\Local\\Temp/ipykernel_27896/3053227428.py:17: PerformanceWarning: DataFrame is highly fragmented.  This is usually the result of calling `frame.insert` many times, which has poor performance.  Consider joining all columns at once using pd.concat(axis=1) instead.  To get a de-fragmented frame, use `newframe = frame.copy()`\n",
      "  blip_df[col]=kmeans.labels_\n",
      "C:\\Users\\jzlch\\AppData\\Local\\Temp/ipykernel_27896/3053227428.py:17: PerformanceWarning: DataFrame is highly fragmented.  This is usually the result of calling `frame.insert` many times, which has poor performance.  Consider joining all columns at once using pd.concat(axis=1) instead.  To get a de-fragmented frame, use `newframe = frame.copy()`\n",
      "  blip_df[col]=kmeans.labels_\n",
      "C:\\Users\\jzlch\\AppData\\Local\\Temp/ipykernel_27896/3053227428.py:17: PerformanceWarning: DataFrame is highly fragmented.  This is usually the result of calling `frame.insert` many times, which has poor performance.  Consider joining all columns at once using pd.concat(axis=1) instead.  To get a de-fragmented frame, use `newframe = frame.copy()`\n",
      "  blip_df[col]=kmeans.labels_\n",
      "C:\\Users\\jzlch\\AppData\\Local\\Temp/ipykernel_27896/3053227428.py:17: PerformanceWarning: DataFrame is highly fragmented.  This is usually the result of calling `frame.insert` many times, which has poor performance.  Consider joining all columns at once using pd.concat(axis=1) instead.  To get a de-fragmented frame, use `newframe = frame.copy()`\n",
      "  blip_df[col]=kmeans.labels_\n",
      "C:\\Users\\jzlch\\AppData\\Local\\Temp/ipykernel_27896/3053227428.py:17: PerformanceWarning: DataFrame is highly fragmented.  This is usually the result of calling `frame.insert` many times, which has poor performance.  Consider joining all columns at once using pd.concat(axis=1) instead.  To get a de-fragmented frame, use `newframe = frame.copy()`\n",
      "  blip_df[col]=kmeans.labels_\n",
      "C:\\Users\\jzlch\\AppData\\Local\\Temp/ipykernel_27896/3053227428.py:17: PerformanceWarning: DataFrame is highly fragmented.  This is usually the result of calling `frame.insert` many times, which has poor performance.  Consider joining all columns at once using pd.concat(axis=1) instead.  To get a de-fragmented frame, use `newframe = frame.copy()`\n",
      "  blip_df[col]=kmeans.labels_\n",
      "C:\\Users\\jzlch\\AppData\\Local\\Temp/ipykernel_27896/3053227428.py:16: ConvergenceWarning: Number of distinct clusters (3) found smaller than n_clusters (15). Possibly due to duplicate points in X.\n",
      "  kmeans.fit(temp_df[col].to_numpy().reshape(-1, 1))\n",
      "C:\\Users\\jzlch\\AppData\\Local\\Temp/ipykernel_27896/3053227428.py:17: PerformanceWarning: DataFrame is highly fragmented.  This is usually the result of calling `frame.insert` many times, which has poor performance.  Consider joining all columns at once using pd.concat(axis=1) instead.  To get a de-fragmented frame, use `newframe = frame.copy()`\n",
      "  blip_df[col]=kmeans.labels_\n"
     ]
    }
   ],
   "source": [
    "temp_df=combined_df.copy()\n",
    "temp_df.drop(['timestamp'], axis=1, inplace=True)\n",
    "# minus by mean\n",
    "temp_df = temp_df - temp_df.mean()\n",
    "blip_df=pd.DataFrame()\n",
    "# chaos_state_df = pd.read_csv(os.path.join(\n",
    "#     os.pardir, \"output\", 'chaos_state.csv'))\n",
    "# blip_df[\"chaos_state\"]=chaos_state_df[\"chaos_state\"]\n",
    "\n",
    "# discritize each single column by kmeans cluster\n",
    "for col in temp_df.columns:\n",
    "    # if col==\"chaos__event_type\":\n",
    "    #     blip_df[col]=temp_df[col]\n",
    "    #     continue\n",
    "    kmeans = KMeans(n_clusters=15, random_state=0)\n",
    "    kmeans.fit(temp_df[col].to_numpy().reshape(-1, 1))\n",
    "    blip_df[col]=kmeans.labels_\n",
    "\n",
    "blip_df.to_csv(os.path.join(os.pardir, \"output\", 'train_blip.csv'), index=False)"
   ]
  },
  {
   "cell_type": "code",
   "execution_count": 7,
   "metadata": {},
   "outputs": [],
   "source": [
    "# copy combined_df\n",
    "notears_raw_df = combined_df.copy()\n",
    "# standard normalization\n",
    "notears_raw_df = (notears_raw_df - notears_raw_df.mean()) / \\\n",
    "    (notears_raw_df.std())\n",
    "notears_raw_df.dropna(axis=1, how='all', inplace=True)\n",
    "notears_raw_df.to_csv(os.path.join(os.pardir, \"output\",\n",
    "                      'notears_raw.csv'), index=False)\n",
    "\n",
    "notears_df = notears_raw_df.drop(['timestamp'], axis=1)\n",
    "notears_df.to_csv(os.path.join(os.pardir, \"output\",\n",
    "                  'notears.csv'), index=False, header=False)\n"
   ]
  },
  {
   "cell_type": "code",
   "execution_count": null,
   "metadata": {},
   "outputs": [],
   "source": [
    "data_np=np.loadtxt(os.path.join(os.pardir, \"output\", 'notears.csv'), delimiter=',')"
   ]
  },
  {
   "cell_type": "code",
   "execution_count": null,
   "metadata": {},
   "outputs": [],
   "source": [
    "data_np.shape"
   ]
  },
  {
   "cell_type": "code",
   "execution_count": null,
   "metadata": {},
   "outputs": [],
   "source": [
    "np.argwhere(np.isinf(data_np))"
   ]
  },
  {
   "cell_type": "code",
   "execution_count": null,
   "metadata": {},
   "outputs": [],
   "source": [
    "combined_df"
   ]
  },
  {
   "cell_type": "code",
   "execution_count": null,
   "metadata": {},
   "outputs": [],
   "source": [
    "np.where(pd.isnull(new_df))"
   ]
  },
  {
   "cell_type": "code",
   "execution_count": 5,
   "metadata": {},
   "outputs": [],
   "source": [
    "df=pd.read_csv(os.path.join(os.pardir, \"output\", \"noChaos.csv\"))"
   ]
  },
  {
   "cell_type": "code",
   "execution_count": 6,
   "metadata": {},
   "outputs": [
    {
     "data": {
      "text/plain": [
       "(75600, 161)"
      ]
     },
     "execution_count": 6,
     "metadata": {},
     "output_type": "execute_result"
    }
   ],
   "source": [
    "df.shape"
   ]
  },
  {
   "cell_type": "code",
   "execution_count": null,
   "metadata": {},
   "outputs": [],
   "source": [
    "df.plot(x=df.columns[0], y=df.columns[1:])"
   ]
  },
  {
   "cell_type": "code",
   "execution_count": null,
   "metadata": {},
   "outputs": [],
   "source": []
  }
 ],
 "metadata": {
  "kernelspec": {
   "display_name": "Python 3.9.6 ('torch')",
   "language": "python",
   "name": "python3"
  },
  "language_info": {
   "codemirror_mode": {
    "name": "ipython",
    "version": 3
   },
   "file_extension": ".py",
   "mimetype": "text/x-python",
   "name": "python",
   "nbconvert_exporter": "python",
   "pygments_lexer": "ipython3",
   "version": "3.9.6"
  },
  "orig_nbformat": 4,
  "vscode": {
   "interpreter": {
    "hash": "eb4345db3d2462150b5db4a9ec13f5f80ceb72c5f9c359cc62f22915856cc500"
   }
  }
 },
 "nbformat": 4,
 "nbformat_minor": 2
}
