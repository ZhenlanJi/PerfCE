{
 "cells": [
  {
   "cell_type": "code",
   "execution_count": 1,
   "metadata": {},
   "outputs": [],
   "source": [
    "import yaml\n",
    "import os\n",
    "import datetime as dt\n",
    "import pandas as pd\n",
    "import pytz\n",
    "import numpy as np\n",
    "from os.path import (\n",
    "    abspath,\n",
    "    dirname,\n",
    ")\n"
   ]
  },
  {
   "cell_type": "code",
   "execution_count": 8,
   "metadata": {},
   "outputs": [],
   "source": [
    "def parse_chaos_attr(chaos_attr, chaos_type):\n",
    "    chaos_attr_dict = {}\n",
    "    if chaos_type == 'network':\n",
    "        action = chaos_attr['action']\n",
    "        if action == 'loss':\n",
    "            chaos_attr_dict['Network_loss_rate'] = int(chaos_attr['loss']['loss'])\n",
    "        elif action == 'delay':\n",
    "            chaos_attr_dict['Network_delay_latency'] = int(chaos_attr['delay']['latency'].strip('ms'))\n",
    "        elif action == 'duplicate':\n",
    "            chaos_attr_dict['Network_duplicate_rate'] = int(chaos_attr['duplicate']['duplicate'])\n",
    "        elif action == 'corrupt':\n",
    "            chaos_attr_dict['Network_corrupt_rate'] = int(chaos_attr['corrupt']['corrupt'])\n",
    "        elif action == 'bandwidth':\n",
    "            chaos_attr_dict['Network_bandwidth_limit'] = int(chaos_attr['bandwidth']['limit'])\n",
    "            chaos_attr_dict['Network_bandwidth_buffer'] = int(chaos_attr['bandwidth']['buffer'])\n",
    "        else:\n",
    "            pass\n",
    "    elif chaos_type == 'stress':\n",
    "        action = list(chaos_attr['stressors'].keys())[0]\n",
    "        if action == 'cpu':\n",
    "            chaos_attr_dict['Stress_stressors_cpu_load'] = int(\n",
    "                chaos_attr['stressors']['cpu']['load'])\n",
    "        elif action == 'memory':\n",
    "            chaos_attr_dict['Stress_stressors_memory_size'] = int(\n",
    "                chaos_attr['stressors']['memory']['size'].strip('%'))\n",
    "        else:\n",
    "            print('Unknown action: {}'.format(action))\n",
    "    elif chaos_type == 'time':\n",
    "        chaos_attr_dict['Time_timeOffset'] = int(\n",
    "            chaos_attr['timeOffset'].strip('m'))\n",
    "    elif chaos_type == 'io':\n",
    "        action = chaos_attr['action']\n",
    "        if action == 'latency':\n",
    "            chaos_attr_dict['IO_delay_time'] = int(chaos_attr['delay'].strip('ms'))\n",
    "        elif action == 'fault':\n",
    "            chaos_attr_dict['IO_error_no'] = int(chaos_attr['errno'])\n",
    "    else:\n",
    "        pass\n",
    "\n",
    "    return chaos_attr_dict\n"
   ]
  },
  {
   "cell_type": "code",
   "execution_count": 9,
   "metadata": {},
   "outputs": [],
   "source": [
    "# set time\n",
    "start_time = dt.datetime(2022, 5, 21, 1, 00, 00)+dt.timedelta(hours=8)\n",
    "end_time = start_time+dt.timedelta(hours=12)-dt.timedelta(seconds=1)\n",
    "chaos_start_time = dt.datetime(2022, 5, 21, 1, 8, 33)+dt.timedelta(hours=8)\n",
    "chaos_duration=dt.timedelta(seconds=60)\n",
    "suspend_duration=dt.timedelta(minutes=10)\n",
    "\n",
    "event_type_list = {'normal': 0}\n",
    "chaos_df = pd.DataFrame(\n",
    "    columns=[\n",
    "        'timestamp', 'event_type', 'IO_delay_time', 'IO_error_no',\n",
    "        'Network_loss_rate', 'Network_delay_latency', \n",
    "        'Network_duplicate_rate', 'Network_corrupt_rate',\n",
    "        'Network_bandwidth_limit', 'Network_bandwidth_buffer',\n",
    "        'Stress_stressors_cpu_load', 'Stress_stressors_memory_size',\n",
    "    ])\n",
    "\n",
    "# set chaos_df timestamp\n",
    "chaos_df['timestamp'] = pd.date_range(\n",
    "    start=start_time, end=end_time, freq='1s', tz='Asia/Shanghai')\n",
    "chaos_df['timestamp'] = chaos_df['timestamp'].apply(\n",
    "    lambda x: x.timestamp())\n",
    "\n",
    "# fill all other columns with 0\n",
    "chaos_df.fillna(0, inplace=True)\n"
   ]
  },
  {
   "cell_type": "code",
   "execution_count": 10,
   "metadata": {},
   "outputs": [],
   "source": [
    "with open(os.path.join(dirname(dirname(os.getcwd())), \"chaos_sql_0.yaml\"), \"r\") as stream:\n",
    "    try:\n",
    "        wf_data = yaml.safe_load(stream)\n",
    "    except yaml.YAMLError as exc:\n",
    "        print(exc)\n"
   ]
  },
  {
   "cell_type": "code",
   "execution_count": 11,
   "metadata": {},
   "outputs": [],
   "source": [
    "current_time = chaos_start_time\n",
    "for event in wf_data[\"spec\"][\"templates\"][1:]:\n",
    "    if event[\"templateType\"] == \"Suspend\":\n",
    "        current_time += suspend_duration\n",
    "    else:\n",
    "        chaos_type = event[\"templateType\"].split(\"Chaos\")[0]\n",
    "        chaos_type = chaos_type.lower()\n",
    "\n",
    "        type_name = '_'.join(event[\"name\"].split(\"-\")[:2]) if event[\"name\"].split(\"-\")[\n",
    "            0] != 'time' else 'time'\n",
    "        if event_type_list.get(type_name) is None:\n",
    "            event_type_list[type_name] = len(event_type_list)\n",
    "        # set 30s interval after current_time on chaos_df column as event_type\n",
    "        chaos_df.loc[(chaos_df['timestamp'] >= current_time.timestamp()) &\n",
    "                     (chaos_df['timestamp'] <=\n",
    "                      (current_time + chaos_duration).timestamp()),\n",
    "                     'event_type'] = event_type_list[type_name]\n",
    "\n",
    "        chaos_attr_dict = parse_chaos_attr(\n",
    "            event[chaos_type+'Chaos'], chaos_type)\n",
    "        for c in chaos_attr_dict:\n",
    "            chaos_df.loc[(chaos_df['timestamp'] >= current_time.timestamp()) & (\n",
    "                chaos_df['timestamp'] <= (current_time+dt.timedelta(seconds=30)\n",
    "                                          ).timestamp()), c] = chaos_attr_dict[c]\n",
    "        current_time += dt.timedelta(seconds=30)\n"
   ]
  },
  {
   "cell_type": "code",
   "execution_count": 12,
   "metadata": {},
   "outputs": [],
   "source": [
    "chaos_df.to_csv(os.path.join(\n",
    "    dirname(dirname(os.getcwd())), \"output\", 'mysql', 'chaos_info.csv'), index=False)\n"
   ]
  },
  {
   "cell_type": "code",
   "execution_count": 13,
   "metadata": {},
   "outputs": [
    {
     "data": {
      "text/plain": [
       "{'normal': 0,\n",
       " 'io_latency': 1,\n",
       " 'io_fault': 2,\n",
       " 'network_part': 3,\n",
       " 'network_loss': 4,\n",
       " 'network_delay': 5,\n",
       " 'network_dup': 6,\n",
       " 'network_corr': 7,\n",
       " 'network_band': 8,\n",
       " 'cpu_stress': 9,\n",
       " 'mem_stress': 10}"
      ]
     },
     "execution_count": 13,
     "metadata": {},
     "output_type": "execute_result"
    }
   ],
   "source": [
    "event_type_list"
   ]
  },
  {
   "cell_type": "code",
   "execution_count": null,
   "metadata": {},
   "outputs": [],
   "source": [
    "for event in wf_data[\"spec\"][\"templates\"][1:]:\n",
    "    if event[\"name\"] == \"time-tikv-all-p15\":\n",
    "        chaos_type = event[\"templateType\"].split(\"Chaos\")[0]\n",
    "        chaos_type = chaos_type.lower()\n",
    "        chaos_attr_dict = parse_chaos_attr(\n",
    "            event[chaos_type+'Chaos'], chaos_type)\n",
    "        print(event[chaos_type+'Chaos'])\n",
    "        print('======================================')\n",
    "        print(chaos_attr_dict)\n"
   ]
  },
  {
   "cell_type": "code",
   "execution_count": 38,
   "metadata": {},
   "outputs": [],
   "source": [
    "chaos_df=pd.read_csv(os.path.join(os.pardir, \"output\", 'chaos.csv'))\n",
    "data_df=chaos_df.drop(['timestamp'],axis=1)"
   ]
  },
  {
   "cell_type": "code",
   "execution_count": 39,
   "metadata": {},
   "outputs": [],
   "source": [
    "from sklearn.decomposition import PCA\n",
    "\n",
    "pca = PCA(n_components=1)\n",
    "pca.fit(data_df)\n",
    "\n",
    "pca_res = pca.transform(data_df)\n",
    "chaos_disc={}\n",
    "chaos_state=[]\n",
    "\n",
    "for c in pca_res.reshape(-1):\n",
    "    if chaos_disc.get(c) is None:\n",
    "        chaos_disc[c]=len(chaos_disc)\n",
    "    chaos_state.append(chaos_disc[c])\n",
    "\n",
    "chaos_state_df=pd.DataFrame(chaos_state, columns=['chaos_state'])\n",
    "chaos_state_df[\"timestamp\"]=chaos_df[\"timestamp\"]\n",
    "chaos_state_df.to_csv(os.path.join(os.pardir, \"output\", 'chaos_state.csv'), index=False)"
   ]
  },
  {
   "cell_type": "code",
   "execution_count": 40,
   "metadata": {},
   "outputs": [
    {
     "data": {
      "text/plain": [
       "{-11.888919722132187: 0,\n",
       " -11.887834029712968: 1,\n",
       " -11.887834681382989: 2,\n",
       " -11.88783422146851: 3,\n",
       " -11.887651101218378: 4,\n",
       " -11.8868403191316: 5,\n",
       " -11.886840970801622: 6,\n",
       " -11.886840510887144: 7,\n",
       " -11.886657390637009: 8,\n",
       " -11.885846608550231: 9,\n",
       " -11.885846531834378: 10,\n",
       " -11.885847260220253: 11,\n",
       " -11.885846800305774: 12,\n",
       " -11.88566368005564: 13,\n",
       " -11.884852897968862: 14,\n",
       " -11.88485282125301: 15,\n",
       " -11.884853549638883: 16,\n",
       " -11.884853089724405: 17,\n",
       " -11.88466996947427: 18,\n",
       " -11.883859187387495: 19,\n",
       " -11.88385911067164: 20,\n",
       " -11.883859839057514: 21,\n",
       " -11.883859379143036: 22,\n",
       " -11.883676258892903: 23,\n",
       " -11.882498507919983: 24,\n",
       " -11.881734848299033: 25,\n",
       " -11.88196489925945: 26,\n",
       " -11.88219495021987: 27,\n",
       " -11.882425001180287: 28,\n",
       " -11.882655052140704: 29,\n",
       " -11.880649119419573: 30,\n",
       " -11.881201250068887: 31,\n",
       " -11.881891413380528: 32,\n",
       " -11.88327174000381: 33,\n",
       " -11.879747388655636: 34,\n",
       " -11.879977401135394: 35,\n",
       " -11.880207413615151: 36,\n",
       " -11.88043742609491: 37,\n",
       " -11.880667438574667: 38,\n",
       " -11.878753658833936: 39,\n",
       " -11.878983652073366: 40,\n",
       " -11.879213645312792: 41,\n",
       " -11.879443638552221: 42,\n",
       " -11.879673631791649: 43,\n",
       " 14130.25078855356: 44,\n",
       " 7412.739837270103: 45,\n",
       " 7412.739837253873: 46,\n",
       " -10.463317123162284: 47,\n",
       " -11.877861547979464: 48,\n",
       " -11.878819882641011: 49,\n",
       " -11.879778217302558: 50,\n",
       " -11.880736551964103: 51,\n",
       " -11.87786147126361: 52,\n",
       " -11.878819805925158: 53,\n",
       " -11.879778140586705: 54,\n",
       " -11.88073647524825: 55,\n",
       " -11.877862199649485: 56,\n",
       " -11.878820534311032: 57,\n",
       " -11.87977886897258: 58,\n",
       " -11.880737203634125: 59,\n",
       " -11.877678619484872: 60,\n",
       " -11.878636954146419: 61,\n",
       " -11.879595288807966: 62,\n",
       " -11.880553623469511: 63,\n",
       " -11.87686775721634: 64,\n",
       " -11.877826011696131: 65,\n",
       " -11.878784266175924: 66,\n",
       " -11.879742520655714: 67,\n",
       " -11.876867680500487: 68,\n",
       " -11.877825934980278: 69,\n",
       " -11.87878418946007: 70,\n",
       " -11.879742443939861: 71,\n",
       " -11.876868408886361: 72,\n",
       " -11.877826663366152: 73,\n",
       " -11.878784917845945: 74,\n",
       " -11.879743172325735: 75,\n",
       " -11.876684828721748: 76,\n",
       " -11.877643083201539: 77,\n",
       " -11.878601337681332: 78,\n",
       " -11.879559592161122: 79,\n",
       " -11.874915792155178: 80,\n",
       " -11.874915715439325: 81,\n",
       " -11.8749164438252: 82,\n",
       " -11.874732863660588: 83}"
      ]
     },
     "execution_count": 40,
     "metadata": {},
     "output_type": "execute_result"
    }
   ],
   "source": [
    "chaos_disc\n"
   ]
  }
 ],
 "metadata": {
  "interpreter": {
   "hash": "b645a30019d62b8991d93532ef2cef47e7819f6a45961c024aa89234bf63fdb5"
  },
  "kernelspec": {
   "display_name": "Python 3.9.6 ('torch')",
   "language": "python",
   "name": "python3"
  },
  "language_info": {
   "codemirror_mode": {
    "name": "ipython",
    "version": 3
   },
   "file_extension": ".py",
   "mimetype": "text/x-python",
   "name": "python",
   "nbconvert_exporter": "python",
   "pygments_lexer": "ipython3",
   "version": "3.9.6"
  },
  "orig_nbformat": 4
 },
 "nbformat": 4,
 "nbformat_minor": 2
}
