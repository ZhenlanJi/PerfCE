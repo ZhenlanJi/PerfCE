{
 "cells": [
  {
   "cell_type": "code",
   "execution_count": 2,
   "metadata": {},
   "outputs": [],
   "source": [
    "import numpy as np\n",
    "import pandas as pd\n",
    "import matplotlib.pyplot as plt\n",
    "\n",
    "human_num=7\n"
   ]
  },
  {
   "cell_type": "code",
   "execution_count": 3,
   "metadata": {},
   "outputs": [],
   "source": [
    "def AP(pred_list, ground_truth):\n",
    "    hits = 0\n",
    "    sum_prec = 0\n",
    "    for i in range(len(pred_list)):\n",
    "        if pred_list[i] in ground_truth.keys():\n",
    "            hits += ground_truth[pred_list[i]]/human_num\n",
    "            sum_prec += hits / (i + 1)\n",
    "    if hits == 0:\n",
    "        return 0\n",
    "    return sum_prec / len(ground_truth)\n",
    "\n",
    "\n",
    "def NDCG(pred_list, ground_truth):\n",
    "    dcg = 0\n",
    "    idcg = 0\n",
    "    sorted_truth = sorted(\n",
    "        ground_truth.items(), key=lambda x: x[1], reverse=True)\n",
    "    for i in range(len(pred_list)):\n",
    "        if pred_list[i] in ground_truth.keys():\n",
    "            dcg += ground_truth[pred_list[i]] / np.log2(i + 2)\n",
    "        idcg += sorted_truth[i][1] / np.log2(i + 2)\n",
    "    if dcg == 0:\n",
    "        return 0\n",
    "    return dcg / idcg\n",
    "\n",
    "\n",
    "def top_k(pred_list, ground_truth, k):\n",
    "    pred_list = pred_list[:k]\n",
    "    score = []\n",
    "    for i in range(len(pred_list)):\n",
    "        if pred_list[i] in ground_truth.keys():\n",
    "            score.append(ground_truth[pred_list[i]]/human_num)\n",
    "        else:\n",
    "            score.append(0)\n",
    "    if score:\n",
    "        return np.mean(score)\n",
    "    else:\n",
    "        return 0\n"
   ]
  },
  {
   "cell_type": "code",
   "execution_count": 4,
   "metadata": {},
   "outputs": [],
   "source": [
    "ground_truth = {\n",
    "    'MySQL_Handlers__external_lock': 6,\n",
    "    'MySQL_Handlers__write': 6,\n",
    "    'MySQL_Network_Traffic__Outbound': 1,\n",
    "    'MySQL_Transaction_Handlers__commit': 6,\n",
    "    'MySQL_File_Openings': 4,\n",
    "    'MySQL_Handlers__read_rnd': 4,\n",
    "    'MySQL_Network_Usage_Hourly__Received': 1,\n",
    "    'MySQL_Network_Usage_Hourly__Sent': 1,\n",
    "    'MySQL_Query_Cache_Memory__Free_Memory': 2,\n",
    "    'Node_Swap_Activity__Swap_In_Reads': 2,\n",
    "    'Node_IO_Activity__Page_In': 5,\n",
    "    'Node_Memory_Distribution__Free': 4,\n",
    "    'MySQL_Thread_Cache__Threads_Created': 1\n",
    "}\n",
    "\n",
    "PerfCE = [\n",
    "    'MySQL_Handlers__external_lock',\n",
    "    'MySQL_Handlers__write',\n",
    "    'MySQL_Network_Traffic__Outbound',\n",
    "    'MySQL_Transaction_Handlers__commit'\n",
    "]\n",
    "CauseInfer = [\n",
    "    'MySQL_Aborted_Connections__attempts',\n",
    "    'Node_Memory_Distribution__Free',\n",
    "    'MySQL_Thread_Cache__Threads_Created',\n",
    "    'Top_Command_Counters__show_slave_hosts',\n",
    "    'Top_Command_Counters__admin_commands',\n",
    "]\n",
    "CauseInfer_CE = [\n",
    "    'MySQL_Query_Cache_Memory__Free_Memory',\n",
    "    'Node_Swap_Activity__Swap_In_Reads',\n",
    "    'Node_IO_Activity__Page_In',\n",
    "    'Node_Memory_Distribution__Free',\n",
    "    'MySQL_Connections__Max_Used_Connections',\n",
    "]\n",
    "FluxInfer = [\n",
    "    'MySQL_File_Openings', \n",
    "    'MySQL_Handlers__read_rnd', \n",
    "    'MySQL_Network_Usage_Hourly__Received', \n",
    "    'MySQL_Network_Usage_Hourly__Sent', \n",
    "    'MySQL_Query_Cache_Memory__Free_Memory'\n",
    "]\n",
    "ExplainIt = [\n",
    "    'MySQL_Aborted_Connections__attempts',\n",
    "    'MySQL_Thread_Cache__Threads_Created',\n",
    "    'Top_Command_Counters__admin_commands',\n",
    "    'Node_Memory_Distribution__Free',\n",
    "    'Top_Command_Counters__show_slave_hosts'\n",
    "]\n",
    "\n",
    "\n",
    "methods_dict = {\n",
    "    'PerfCE': PerfCE,\n",
    "    'CauseInfer': CauseInfer,\n",
    "    'CauseInfer_CE': CauseInfer_CE,\n",
    "    'FluxInfer': FluxInfer,\n",
    "    'ExplainIt': ExplainIt\n",
    "}"
   ]
  },
  {
   "cell_type": "code",
   "execution_count": null,
   "metadata": {},
   "outputs": [],
   "source": [
    "for k,v in methods_dict.items():\n",
    "    \n",
    "    print(f'Top-1 for {k}: {top_k(v, ground_truth, 1)}')\n",
    "    print(f'Top-3 for {k}: {top_k(v, ground_truth, 3)}')\n",
    "    print(f'Top-5 for {k}: {top_k(v, ground_truth, 5)}')\n",
    "    print(f'MAP for {k}: {AP(v, ground_truth)}')\n",
    "    print(f'NDCG for {k}: {NDCG(v, ground_truth)}')\n",
    "\n",
    "    print('==========================================================')"
   ]
  },
  {
   "cell_type": "code",
   "execution_count": 61,
   "metadata": {},
   "outputs": [
    {
     "name": "stdout",
     "output_type": "stream",
     "text": [
      "MySQL_Handlers__external_lock:6;MySQL_Handlers__write:6;MySQL_Network_Traffic__Outbound:1;MySQL_Transaction_Handlers__commit:6;MySQL_File_Openings:4;MySQL_Handlers__read_rnd:4;MySQL_Network_Usage_Hourly__Received:1;MySQL_Network_Usage_Hourly__Sent:1;MySQL_Query_Cache_Memory__Free_Memory:2;Node_Swap_Activity__Swap_In_Reads:2;Node_IO_Activity__Page_In:5;Node_Memory_Distribution__Free:4;MySQL_Thread_Cache__Threads_Created:1;,MySQL_Handlers__external_lock;MySQL_Handlers__write;MySQL_Network_Traffic__Outbound;MySQL_Transaction_Handlers__commit;,MySQL_Aborted_Connections__attempts;Node_Memory_Distribution__Free;MySQL_Thread_Cache__Threads_Created;Top_Command_Counters__show_slave_hosts;Top_Command_Counters__admin_commands;,MySQL_Query_Cache_Memory__Free_Memory;Node_Swap_Activity__Swap_In_Reads;Node_IO_Activity__Page_In;Node_Memory_Distribution__Free;MySQL_Connections__Max_Used_Connections;,MySQL_File_Openings;MySQL_Handlers__read_rnd;MySQL_Network_Usage_Hourly__Received;MySQL_Network_Usage_Hourly__Sent;MySQL_Query_Cache_Memory__Free_Memory;,MySQL_Aborted_Connections__attempts;MySQL_Thread_Cache__Threads_Created;Top_Command_Counters__admin_commands;Node_Memory_Distribution__Free;Top_Command_Counters__show_slave_hosts;"
     ]
    }
   ],
   "source": [
    "for k,v in ground_truth.items():\n",
    "    print(f\"{k}:{v};\", end=\"\")\n",
    "print(',', end=\"\")\n",
    "for i in PerfCE:\n",
    "    print(f\"{i};\", end=\"\")\n",
    "print(',', end=\"\")\n",
    "for i in CauseInfer:\n",
    "    print(f\"{i};\", end=\"\")\n",
    "print(',', end=\"\")\n",
    "for i in CauseInfer_CE:\n",
    "    print(f\"{i};\", end=\"\")\n",
    "print(',', end=\"\")\n",
    "for i in FluxInfer:\n",
    "    print(f\"{i};\", end=\"\")\n",
    "print(',', end=\"\")\n",
    "for i in ExplainIt:\n",
    "    print(f\"{i};\", end=\"\")\n"
   ]
  },
  {
   "cell_type": "code",
   "execution_count": null,
   "metadata": {},
   "outputs": [],
   "source": [
    "eval_df=pd.read_csv('/home/zjiae/Project/TiDB_exp/src/mysql/eval.csv')"
   ]
  },
  {
   "cell_type": "code",
   "execution_count": 45,
   "metadata": {},
   "outputs": [
    {
     "name": "stdout",
     "output_type": "stream",
     "text": [
      "Flush_Tables \n",
      "\n",
      "MySQL_Handlers__external_lock:6\n",
      "MySQL_Handlers__write:6\n",
      "MySQL_Network_Traffic__Outbound:1\n",
      "MySQL_Transaction_Handlers__commit:6\n",
      "MySQL_File_Openings:4\n",
      "MySQL_Handlers__read_rnd:4\n",
      "MySQL_Network_Usage_Hourly__Received:1\n",
      "MySQL_Network_Usage_Hourly__Sent:1\n",
      "MySQL_Query_Cache_Memory__Free_Memory:2\n",
      "Node_Swap_Activity__Swap_In_Reads:2\n",
      "Node_IO_Activity__Page_In:5\n",
      "Node_Memory_Distribution__Free:4\n",
      "MySQL_Thread_Cache__Threads_Created:1\n"
     ]
    }
   ],
   "source": [
    "case_no = 12\n",
    "\n",
    "eval_df = pd.read_csv('/home/zjiae/Project/TiDB_exp/src/mysql/eval.csv')\n",
    "print(eval_df.loc[case_no, 'case'], '\\n')\n",
    "truth_line = eval_df.loc[case_no, 'ground_truth'].split(';')\n",
    "ground_truth = {}\n",
    "for i in truth_line:\n",
    "    if i:\n",
    "        ground_truth[i.split(':')[0]] = int(i.split(':')[1])\n",
    "for k, v in ground_truth.items():\n",
    "    print(f\"{k}:{v}\")\n",
    "\n",
    "ExplainIt = [\n",
    "    'Top_Command_Counters__admin_commands',\n",
    "    'Top_Command_Counters__show_slave_hosts',\n",
    "    'MySQL_Thread_Cache__Threads_Created',\n",
    "    'MySQL_Aborted_Connections__attempts',\n",
    "    'Node_Memory_Distribution__Free',\n",
    "]\n",
    "PerfCE = list(filter(None, eval_df.loc[case_no, 'PerfCE'].split(';')))\n",
    "CauseInfer = list(filter(None, eval_df.loc[case_no, 'CauseInfer'].split(';')))\n",
    "CauseInfer_CE = list(filter(None, eval_df.loc[case_no, 'CauseInfer_CE'].split(';')))\n",
    "FluxInfer = list(filter(None, eval_df.loc[case_no, 'FluxInfer'].split(';')))\n",
    "\n",
    "methods_dict = {\n",
    "    'PerfCE': PerfCE,\n",
    "    'CauseInfer': CauseInfer,\n",
    "    'CauseInfer_CE': CauseInfer_CE,\n",
    "    'FluxInfer': FluxInfer,\n",
    "    'ExplainIt': ExplainIt\n",
    "}\n"
   ]
  },
  {
   "cell_type": "code",
   "execution_count": 46,
   "metadata": {},
   "outputs": [
    {
     "name": "stdout",
     "output_type": "stream",
     "text": [
      "Top-1: 0.0\n",
      "Top-3: 0.047619047619047616\n",
      "Top-5: 0.14285714285714285\n",
      "MAP: 0.014652014652014652\n",
      "NDCG: 0.1241880967980982\n"
     ]
    }
   ],
   "source": [
    "print(f'Top-1: {top_k(ExplainIt, ground_truth, 1)}')\n",
    "print(f'Top-3: {top_k(ExplainIt, ground_truth, 3)}')\n",
    "print(f'Top-5: {top_k(ExplainIt, ground_truth, 5)}')\n",
    "print(f'MAP: {AP(ExplainIt, ground_truth)}')\n",
    "print(f'NDCG: {NDCG(ExplainIt, ground_truth)}')"
   ]
  },
  {
   "cell_type": "code",
   "execution_count": 14,
   "metadata": {},
   "outputs": [
    {
     "name": "stdout",
     "output_type": "stream",
     "text": [
      "0.6093565596410374\n",
      "0.2693452380952381\n",
      "0.619047619047619\n",
      "0.6071428571428571\n"
     ]
    }
   ],
   "source": [
    "ground_truth = {\n",
    "    'Node_Memory_Distribution__Free': 4,\n",
    "    'MySQL_Query_Cache_Memory__Free_Memory': 2,\n",
    "    'Node_CPU_Usage_Load__user': 7,\n",
    "    'Node_CPU_Usage_Load__Load_1m': 7,\n",
    "    'Node_CPU_Usage_Load__Max_Core_Utilization': 7,\n",
    "    'Node_IO_Activity__Page_Out': 4,\n",
    "    'Node_IO_Activity__Page_In': 4,\n",
    "    'MySQL_Network_Usage_Hourly__Sent': 2,\n",
    "}\n",
    "\n",
    "PerfCE=[\n",
    "    'MySQL_Network_Usage_Hourly__Sent',\n",
    "    'Node_CPU_Usage_Load__Load_1m',\n",
    "    'Node_IO_Activity__Page_Out',\n",
    "    'Node_IO_Activity__Page_In',\n",
    "]\n",
    "\n",
    "print(NDCG(PerfCE, ground_truth))\n",
    "print(AP(PerfCE, ground_truth))\n",
    "print(top_k(PerfCE, ground_truth, 3))\n",
    "print(top_k(PerfCE, ground_truth, 5))"
   ]
  }
 ],
 "metadata": {
  "interpreter": {
   "hash": "c810ff770b6d0e913a42fdf960a98f7838929ab86424059e7c438586f54055c0"
  },
  "kernelspec": {
   "display_name": "Python 3.9.7 ('torch')",
   "language": "python",
   "name": "python3"
  },
  "language_info": {
   "codemirror_mode": {
    "name": "ipython",
    "version": 3
   },
   "file_extension": ".py",
   "mimetype": "text/x-python",
   "name": "python",
   "nbconvert_exporter": "python",
   "pygments_lexer": "ipython3",
   "version": "3.9.7"
  },
  "orig_nbformat": 4
 },
 "nbformat": 4,
 "nbformat_minor": 2
}
